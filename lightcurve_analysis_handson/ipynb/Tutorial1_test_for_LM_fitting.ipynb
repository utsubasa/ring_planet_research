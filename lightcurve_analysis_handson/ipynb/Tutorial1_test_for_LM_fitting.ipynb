{
 "cells": [
  {
   "cell_type": "code",
   "execution_count": 3,
   "metadata": {},
   "outputs": [
    {
     "data": {
      "text/plain": [
       "<ErrorbarContainer object of 3 artists>"
      ]
     },
     "execution_count": 3,
     "metadata": {},
     "output_type": "execute_result"
    },
    {
     "data": {
      "image/png": "[encoded data removed]",
      "text/plain": [
       "<Figure size 432x288 with 1 Axes>"
      ]
     },
     "metadata": {
      "needs_background": "light"
     },
     "output_type": "display_data"
    }
   ],
   "source": [
    "## Fitting\n",
    "from numpy import exp, sin\n",
    "from numpy import linspace, random\n",
    "from scipy.optimize import leastsq\n",
    "import matplotlib.pyplot as plt\n",
    "import numpy as np\n",
    "\n",
    "## Use of scipy optimizer (lmfit)\n",
    "def residual(variables, x, data, eps_data):\n",
    "    \"\"\"Model a decaying sine wave and subtract data.\"\"\"\n",
    "    amp = variables[0]\n",
    "    phaseshift = variables[1]\n",
    "    freq = variables[2]\n",
    "    decay = variables[3]\n",
    "\n",
    "    model = amp * sin(x*freq + phaseshift) * exp(-x*x*decay)\n",
    "\n",
    "    return (data-model) / eps_data\n",
    "\n",
    "# generate synthetic data with noise\n",
    "x = linspace(0, 100)\n",
    "error_scale = 0.2\n",
    "input_para = np.array([7.5, 0.22, 2.5, 0.01])\n",
    "eps_data = random.normal(size=x.size, scale=error_scale)\n",
    "data = input_para[0] * sin(x*input_para[1] + input_para[2]) * exp(-x*x*input_para[3]) + eps_data\n",
    "plt.plot(x, data)\n",
    "plt.errorbar(x, data,error_scale)\n",
    "\n"
   ]
  },
  {
   "cell_type": "code",
   "execution_count": 4,
   "metadata": {},
   "outputs": [
    {
     "name": "stdout",
     "output_type": "stream",
     "text": [
      "fitting_result: (array([7.62067116, 0.63076414, 2.8596004 , 0.01025722]), 1)\n",
      "input_params: [7.5  0.22 2.5  0.01]\n"
     ]
    }
   ],
   "source": [
    "## fitting with least square from scipy\n",
    "init_variables = [10.0, 0.2, 3.0, 0.007]\n",
    "out = leastsq(residual, init_variables, args=(x, data, eps_data))\n",
    "print(\"fitting_result:\", out)\n",
    "print(\"input_params:\", input_para)\n",
    "\n"
   ]
  },
  {
   "cell_type": "code",
   "execution_count": 5,
   "metadata": {},
   "outputs": [
    {
     "name": "stdout",
     "output_type": "stream",
     "text": [
      "Parameters([('amp', <Parameter 'amp', value=7.620699559085539 +/- 0.358, bounds=[3:11]>), ('decay', <Parameter 'decay', value=0.010257265285877904 +/- 0.000584, bounds=[-inf:inf]>), ('phase', <Parameter 'phase', value=0.6307624831337363 +/- 0.0266, bounds=[-inf:inf]>), ('frequency', <Parameter 'frequency', value=2.859600936848081 +/- 0.0072, bounds=[-inf:inf]>)])\n",
      "[[Variables]]\n",
      "    amp:        7.62069956 +/- 0.35816680 (4.70%) (init = 10)\n",
      "    decay:      0.01025727 +/- 5.8406e-04 (5.69%) (init = 0.007)\n",
      "    phase:      0.63076248 +/- 0.02663557 (4.22%) (init = 0.2)\n",
      "    frequency:  2.85960094 +/- 0.00719859 (0.25%) (init = 3)\n",
      "[[Correlations]] (unreported correlations are < 0.100)\n",
      "    C(phase, frequency) = -0.903\n",
      "    C(amp, decay)       =  0.885\n",
      "    C(amp, frequency)   =  0.787\n",
      "    C(decay, frequency) =  0.711\n",
      "    C(amp, phase)       = -0.633\n",
      "    C(decay, phase)     = -0.607\n"
     ]
    }
   ],
   "source": [
    "## fitting with the Levenberg–Marquardt algorithm (LM method)\n",
    "from numpy import exp, sin\n",
    "import numpy as np\n",
    "from lmfit import minimize, Parameters\n",
    "import lmfit\n",
    "\n",
    "def residual(params, x, data, eps_data):\n",
    "    amp = params['amp']\n",
    "    phaseshift = params['phase']\n",
    "    freq = params['frequency']\n",
    "    decay = params['decay']\n",
    "    model = amp * sin(x*freq + phaseshift) * exp(-x*x*decay)\n",
    "    return (data-model) / eps_data\n",
    "\n",
    "\n",
    "params = Parameters()\n",
    "params.add('amp', value=10, min=3, max = 11)\n",
    "params.add('decay', value=0.007)\n",
    "params.add('phase', value=0.2)\n",
    "params.add('frequency', value=3.0)\n",
    "\n",
    "out = minimize(residual, params, args=(x, data, eps_data))\n",
    "print(out.params)\n",
    "print(lmfit.fit_report(out.params))\n"
   ]
  },
  {
   "cell_type": "code",
   "execution_count": null,
   "metadata": {},
   "outputs": [],
   "source": []
  }
 ],
 "metadata": {
  "kernelspec": {
   "display_name": "Python 3",
   "language": "python",
   "name": "python3"
  },
  "language_info": {
   "codemirror_mode": {
    "name": "ipython",
    "version": 3
   },
   "file_extension": ".py",
   "mimetype": "text/x-python",
   "name": "python",
   "nbconvert_exporter": "python",
   "pygments_lexer": "ipython3",
   "version": "3.8.5"
  }
 },
 "nbformat": 4,
 "nbformat_minor": 4
}
